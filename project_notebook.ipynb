{
 "cells": [
  {
   "cell_type": "markdown",
   "metadata": {},
   "source": [
    "1. Library Imports and Data Load"
   ]
  },
  {
   "cell_type": "code",
   "execution_count": 2,
   "metadata": {},
   "outputs": [
    {
     "name": "stdout",
     "output_type": "stream",
     "text": [
      "   county  year    crmrte    prbarr   prbconv   prbpris  avgsen     polpc  \\\n",
      "0       1    81  0.039885  0.289696  0.402062  0.472222    5.61  0.001787   \n",
      "1       1    82  0.038345  0.338111  0.433005  0.506993    5.59  0.001767   \n",
      "2       1    83  0.030305  0.330449  0.525703  0.479705    5.80  0.001836   \n",
      "\n",
      "    density     taxpc  ...  lpctymle   lpctmin  clcrmrte  clprbarr  clprbcon  \\\n",
      "0  2.307159  25.69763  ... -2.433870  3.006608         .         .         .   \n",
      "1  2.330254  24.87425  ... -2.449038  3.006608 -0.039376  0.154542  0.074143   \n",
      "2  2.341801  26.45144  ... -2.464036  3.006608 -0.235316 -0.022922  0.193987   \n",
      "\n",
      "   clprbpri  clavgsen   clpolpc   cltaxpc     clmix  \n",
      "0         .         .         .         .         .  \n",
      "1  0.071048 -0.003571 -0.011364 -0.032565  0.030857  \n",
      "2 -0.055326  0.036879  0.038413  0.061477 -0.244732  \n",
      "\n",
      "[3 rows x 59 columns]\n"
     ]
    }
   ],
   "source": [
    "import pandas as pd\n",
    "import numpy as np\n",
    "import statsmodels.api as sm\n",
    "import statsmodels.formula.api as smf\n",
    "from linearmodels.panel import PanelOLS\n",
    "from statsmodels.stats.diagnostic import het_breuschpagan\n",
    "from linearmodels.panel import compare\n",
    "import patsy\n",
    "\n",
    "# Load the data\n",
    "df = pd.read_excel(\".\\\\Data\\\\Crime_NorthCarolina.xlsx\")\n",
    "\n",
    "# Preview\n",
    "print(df.head(3))\n"
   ]
  },
  {
   "cell_type": "markdown",
   "metadata": {},
   "source": [
    "2. Pooled OLS with Robust Standard Errors"
   ]
  },
  {
   "cell_type": "code",
   "execution_count": 3,
   "metadata": {},
   "outputs": [
    {
     "name": "stdout",
     "output_type": "stream",
     "text": [
      "                            OLS Regression Results                            \n",
      "==============================================================================\n",
      "Dep. Variable:             log_crmrte   R-squared:                       0.461\n",
      "Model:                            OLS   Adj. R-squared:                  0.458\n",
      "Method:                 Least Squares   F-statistic:                     75.79\n",
      "Date:                Mon, 12 May 2025   Prob (F-statistic):           7.91e-42\n",
      "Time:                        12:25:29   Log-Likelihood:                -347.95\n",
      "No. Observations:                 630   AIC:                             703.9\n",
      "Df Residuals:                     626   BIC:                             721.7\n",
      "Df Model:                           3                                         \n",
      "Covariance Type:                  HC1                                         \n",
      "===============================================================================\n",
      "                  coef    std err          z      P>|z|      [0.025      0.975]\n",
      "-------------------------------------------------------------------------------\n",
      "Intercept      -5.0056      0.117    -42.871      0.000      -5.234      -4.777\n",
      "log_prbarr     -0.6833      0.053    -12.783      0.000      -0.788      -0.579\n",
      "log_prbconv    -0.4644      0.054     -8.643      0.000      -0.570      -0.359\n",
      "prbpris         0.4791      0.215      2.229      0.026       0.058       0.900\n",
      "==============================================================================\n",
      "Omnibus:                       61.101   Durbin-Watson:                   0.530\n",
      "Prob(Omnibus):                  0.000   Jarque-Bera (JB):              259.970\n",
      "Skew:                           0.316   Prob(JB):                     3.53e-57\n",
      "Kurtosis:                       6.083   Cond. No.                         23.3\n",
      "==============================================================================\n",
      "\n",
      "Notes:\n",
      "[1] Standard Errors are heteroscedasticity robust (HC1)\n"
     ]
    }
   ],
   "source": [
    "# Log-transform relevant variables\n",
    "df['log_crmrte'] = np.log(df['crmrte'])\n",
    "df['log_prbarr'] = np.log(df['prbarr'])\n",
    "df['log_prbconv'] = np.log(df['prbconv'])\n",
    "\n",
    "# Fit pooled OLS model with robust standard errors\n",
    "model = smf.ols(\"log_crmrte ~ log_prbarr + log_prbconv + prbpris\", data=df).fit(cov_type='HC1')\n",
    "print(model.summary())\n"
   ]
  },
  {
   "cell_type": "markdown",
   "metadata": {},
   "source": [
    "3. Breusch-Pagan Test"
   ]
  },
  {
   "cell_type": "code",
   "execution_count": 4,
   "metadata": {},
   "outputs": [
    {
     "name": "stdout",
     "output_type": "stream",
     "text": [
      "Breusch-Pagan Test: LM stat=50.568918534166876, p-value=6.044043296497876e-11\n"
     ]
    }
   ],
   "source": [
    "# Breusch-Pagan test for heteroskedasticity\n",
    "residuals = model.resid\n",
    "exog = model.model.exog\n",
    "bp_test = het_breuschpagan(residuals, exog)\n",
    "\n",
    "print(f\"Breusch-Pagan Test: LM stat={bp_test[0]}, p-value={bp_test[1]}\")\n"
   ]
  },
  {
   "cell_type": "markdown",
   "metadata": {},
   "source": [
    "4. Fixed and Random Effects Models"
   ]
  },
  {
   "cell_type": "code",
   "execution_count": 6,
   "metadata": {},
   "outputs": [
    {
     "name": "stdout",
     "output_type": "stream",
     "text": [
      "                          PanelOLS Estimation Summary                           \n",
      "================================================================================\n",
      "Dep. Variable:             log_crmrte   R-squared:                        0.0811\n",
      "Estimator:                   PanelOLS   R-squared (Between):             -0.1328\n",
      "No. Observations:                 630   R-squared (Within):               0.0811\n",
      "Date:                Mon, May 12 2025   R-squared (Overall):             -0.1324\n",
      "Time:                        12:26:44   Log-likelihood                    252.82\n",
      "Cov. Estimator:            Unadjusted                                           \n",
      "                                        F-statistic:                      15.806\n",
      "Entities:                          90   P-value                           0.0000\n",
      "Avg Obs:                       7.0000   Distribution:                   F(3,537)\n",
      "Min Obs:                       7.0000                                           \n",
      "Max Obs:                       7.0000   F-statistic (robust):             15.806\n",
      "                                        P-value                           0.0000\n",
      "Time periods:                       7   Distribution:                   F(3,537)\n",
      "Avg Obs:                       90.000                                           \n",
      "Min Obs:                       90.000                                           \n",
      "Max Obs:                       90.000                                           \n",
      "                                                                                \n",
      "                              Parameter Estimates                              \n",
      "===============================================================================\n",
      "             Parameter  Std. Err.     T-stat    P-value    Lower CI    Upper CI\n",
      "-------------------------------------------------------------------------------\n",
      "log_prbarr     -0.2209     0.0378    -5.8417     0.0000     -0.2952     -0.1466\n",
      "log_prbconv    -0.1352     0.0224    -6.0463     0.0000     -0.1791     -0.0913\n",
      "prbpris        -0.3024     0.1043    -2.8990     0.0039     -0.5073     -0.0975\n",
      "===============================================================================\n",
      "\n",
      "F-test for Poolability: 34.599\n",
      "P-value: 0.0000\n",
      "Distribution: F(89,537)\n",
      "\n",
      "Included effects: Entity\n",
      "                        RandomEffects Estimation Summary                        \n",
      "================================================================================\n",
      "Dep. Variable:             log_crmrte   R-squared:                        0.2386\n",
      "Estimator:              RandomEffects   R-squared (Between):              0.5331\n",
      "No. Observations:                 630   R-squared (Within):              -0.8197\n",
      "Date:                Mon, May 12 2025   R-squared (Overall):              0.5302\n",
      "Time:                        12:26:44   Log-likelihood                   -168.22\n",
      "Cov. Estimator:            Unadjusted                                           \n",
      "                                        F-statistic:                      65.485\n",
      "Entities:                          90   P-value                           0.0000\n",
      "Avg Obs:                       7.0000   Distribution:                   F(3,627)\n",
      "Min Obs:                       7.0000                                           \n",
      "Max Obs:                       7.0000   F-statistic (robust):             65.485\n",
      "                                        P-value                           0.0000\n",
      "Time periods:                       7   Distribution:                   F(3,627)\n",
      "Avg Obs:                       90.000                                           \n",
      "Min Obs:                       90.000                                           \n",
      "Max Obs:                       90.000                                           \n",
      "                                                                                \n",
      "                              Parameter Estimates                              \n",
      "===============================================================================\n",
      "             Parameter  Std. Err.     T-stat    P-value    Lower CI    Upper CI\n",
      "-------------------------------------------------------------------------------\n",
      "log_prbarr      0.3947     0.0600     6.5795     0.0000      0.2769      0.5125\n",
      "log_prbconv     0.1043     0.0380     2.7458     0.0062      0.0297      0.1789\n",
      "prbpris        -1.4923     0.1792    -8.3274     0.0000     -1.8442     -1.1404\n",
      "===============================================================================\n"
     ]
    }
   ],
   "source": [
    "# Set index for panel data\n",
    "df_panel = df.set_index(['county', 'year'])\n",
    "\n",
    "# Create panel model variables\n",
    "exog_vars = ['log_prbarr', 'log_prbconv', 'prbpris']\n",
    "exog = sm.add_constant(df_panel[exog_vars])\n",
    "y = df_panel['log_crmrte']\n",
    "\n",
    "# Fixed effects model\n",
    "fixed = PanelOLS(y, df_panel[exog_vars], entity_effects=True).fit()\n",
    "print(fixed.summary)\n",
    "\n",
    "# Random effects model\n",
    "from linearmodels.panel import RandomEffects\n",
    "random = RandomEffects(y, df_panel[exog_vars]).fit()\n",
    "print(random.summary)\n"
   ]
  },
  {
   "cell_type": "markdown",
   "metadata": {},
   "source": [
    "5. Hausman Test"
   ]
  },
  {
   "cell_type": "code",
   "execution_count": 7,
   "metadata": {},
   "outputs": [
    {
     "name": "stdout",
     "output_type": "stream",
     "text": [
      "                    Model Comparison                    \n",
      "========================================================\n",
      "                         Fixed Effects    Random Effects\n",
      "--------------------------------------------------------\n",
      "Dep. Variable               log_crmrte        log_crmrte\n",
      "Estimator                     PanelOLS     RandomEffects\n",
      "No. Observations                   630               630\n",
      "Cov. Est.                   Unadjusted        Unadjusted\n",
      "R-squared                       0.0811            0.2386\n",
      "R-Squared (Within)              0.0811           -0.8197\n",
      "R-Squared (Between)            -0.1328            0.5331\n",
      "R-Squared (Overall)            -0.1324            0.5302\n",
      "F-statistic                     15.806            65.485\n",
      "P-value (F-stat)                0.0000            0.0000\n",
      "=====================     ============   ===============\n",
      "log_prbarr                     -0.2209            0.3947\n",
      "                             (-5.8417)          (6.5795)\n",
      "log_prbconv                    -0.1352            0.1043\n",
      "                             (-6.0463)          (2.7458)\n",
      "prbpris                        -0.3024           -1.4923\n",
      "                             (-2.8990)         (-8.3274)\n",
      "======================= ============== =================\n",
      "Effects                         Entity                  \n",
      "--------------------------------------------------------\n",
      "\n",
      "T-stats reported in parentheses\n"
     ]
    }
   ],
   "source": [
    "# Hausman test: compare fixed and random effects\n",
    "from linearmodels.panel import compare\n",
    "\n",
    "results = compare({'Fixed Effects': fixed, 'Random Effects': random})\n",
    "print(results)\n"
   ]
  }
 ],
 "metadata": {
  "kernelspec": {
   "display_name": "Python 3",
   "language": "python",
   "name": "python3"
  },
  "language_info": {
   "codemirror_mode": {
    "name": "ipython",
    "version": 3
   },
   "file_extension": ".py",
   "mimetype": "text/x-python",
   "name": "python",
   "nbconvert_exporter": "python",
   "pygments_lexer": "ipython3",
   "version": "3.8.2"
  }
 },
 "nbformat": 4,
 "nbformat_minor": 2
}
